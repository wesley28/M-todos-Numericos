{
  "nbformat": 4,
  "nbformat_minor": 0,
  "metadata": {
    "colab": {
      "provenance": [],
      "include_colab_link": true
    },
    "kernelspec": {
      "name": "python3",
      "display_name": "Python 3"
    },
    "language_info": {
      "name": "python"
    }
  },
  "cells": [
    {
      "cell_type": "markdown",
      "metadata": {
        "id": "view-in-github",
        "colab_type": "text"
      },
      "source": [
        "<a href=\"https://colab.research.google.com/github/wesley28/M-todos-Numericos/blob/main/IMP_Regre_Linear_Multipla.ipynb\" target=\"_parent\"><img src=\"https://colab.research.google.com/assets/colab-badge.svg\" alt=\"Open In Colab\"/></a>"
      ]
    },
    {
      "cell_type": "markdown",
      "source": [
        "# **Atividade 4**\n",
        "# **Wesley Antonio Lehmkuhl**\n"
      ],
      "metadata": {
        "id": "qNwvHMtjTqPW"
      }
    },
    {
      "cell_type": "code",
      "execution_count": 1,
      "metadata": {
        "colab": {
          "base_uri": "https://localhost:8080/"
        },
        "id": "xeYGhnraQsCT",
        "outputId": "011482ed-480d-4f0d-c0a9-bd6650279be8"
      },
      "outputs": [
        {
          "output_type": "stream",
          "name": "stdout",
          "text": [
            "                            OLS Regression Results                            \n",
            "==============================================================================\n",
            "Dep. Variable:                      y   R-squared:                       0.786\n",
            "Model:                            OLS   Adj. R-squared:                  0.700\n",
            "Method:                 Least Squares   F-statistic:                     9.176\n",
            "Date:                Thu, 14 Dec 2023   Prob (F-statistic):             0.0212\n",
            "Time:                        12:28:33   Log-Likelihood:                -8.3196\n",
            "No. Observations:                   8   AIC:                             22.64\n",
            "Df Residuals:                       5   BIC:                             22.88\n",
            "Df Model:                           2                                         \n",
            "Covariance Type:            nonrobust                                         \n",
            "==============================================================================\n",
            "                 coef    std err          t      P>|t|      [0.025      0.975]\n",
            "------------------------------------------------------------------------------\n",
            "const          1.0103      1.376      0.734      0.496      -2.527       4.547\n",
            "x1             0.0497      0.020      2.488      0.055      -0.002       0.101\n",
            "x2             0.5204      0.325      1.602      0.170      -0.315       1.355\n",
            "==============================================================================\n",
            "Omnibus:                        1.290   Durbin-Watson:                   1.801\n",
            "Prob(Omnibus):                  0.525   Jarque-Bera (JB):                0.802\n",
            "Skew:                          -0.678   Prob(JB):                        0.670\n",
            "Kurtosis:                       2.247   Cond. No.                         359.\n",
            "==============================================================================\n",
            "\n",
            "Notes:\n",
            "[1] Standard Errors assume that the covariance matrix of the errors is correctly specified.\n",
            "\n",
            "Estimativa do tempo de viagem para distância = 70 e 6 pacotes entregues:\n",
            "7.609609759340434 horas\n"
          ]
        },
        {
          "output_type": "stream",
          "name": "stderr",
          "text": [
            "/usr/local/lib/python3.10/dist-packages/scipy/stats/_stats_py.py:1806: UserWarning: kurtosistest only valid for n>=20 ... continuing anyway, n=8\n",
            "  warnings.warn(\"kurtosistest only valid for n>=20 ... continuing \"\n"
          ]
        }
      ],
      "source": [
        "import numpy as np\n",
        "import statsmodels.api as sm\n",
        "\n",
        "tempos_de_viagem = [9, 5, 8.5, 6.2, 4.5, 6.7, 7.5, 6.1]\n",
        "distancias = [98, 55, 98, 99, 52, 76, 79, 64]\n",
        "pacotes_entregues = [5, 4, 5, 3, 2, 2, 4, 3]\n",
        "\n",
        "X = np.column_stack((distancias, pacotes_entregues))\n",
        "X = sm.add_constant(X)\n",
        "y = np.array(tempos_de_viagem)\n",
        "\n",
        "modelo = sm.OLS(y, X).fit()\n",
        "\n",
        "print(modelo.summary())\n",
        "\n",
        "nova_distancia = 70\n",
        "novos_pacotes = 6\n",
        "nova_entrada = np.array([1, nova_distancia, novos_pacotes])\n",
        "\n",
        "previsao_tempo_viagem = modelo.predict(nova_entrada)\n",
        "\n",
        "print(f\"\\nEstimativa do tempo de viagem para distância = {nova_distancia} e {novos_pacotes} pacotes entregues:\")\n",
        "print(f\"{previsao_tempo_viagem[0]} horas\")"
      ]
    }
  ]
}